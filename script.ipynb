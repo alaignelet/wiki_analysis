{
 "cells": [
  {
   "cell_type": "code",
   "execution_count": 8,
   "metadata": {},
   "outputs": [],
   "source": [
    "import wikipediaapi\n",
    "import json\n",
    "import requests\n",
    "from bs4 import BeautifulSoup"
   ]
  },
  {
   "cell_type": "code",
   "execution_count": null,
   "metadata": {},
   "outputs": [],
   "source": [
    "def fetch_wikipedia_page(title, lang=\"en\"):\n",
    "    ''' Fetch wiki page using Wikipedia API\n",
    "    '''\n",
    "    wiki_wiki = wikipediaapi.Wikipedia(user_agent='your-user-agent', language=lang)\n",
    "    page = wiki_wiki.page(title)\n",
    "    if not page.exists():\n",
    "        raise ValueError(f\"Page '{title}' does not exist.\")\n",
    "    return page\n",
    "\n",
    "def extract_sections(page, level=0):\n",
    "    '''Extract section from scrap\n",
    "    '''\n",
    "    sections = {}\n",
    "    for section in page.sections:\n",
    "        sections[section.title] = {\n",
    "            \"level\": level,\n",
    "            \"text\": section.text,\n",
    "            \"subsections\": extract_sections(section, level + 1)\n",
    "        }\n",
    "    return sections\n",
    "\n",
    "def extract_references(title):\n",
    "    ''' Extract reference only\n",
    "    '''\n",
    "    url = f\"https://en.wikipedia.org/wiki/{title.replace(' ', '_')}\"\n",
    "    response = requests.get(url)\n",
    "    soup = BeautifulSoup(response.text, \"html.parser\")\n",
    "    \n",
    "    references = []\n",
    "    for ref in soup.select(\"ol.references li cite\"):\n",
    "        ref_text = ref.get_text(separator=\" \", strip=True)\n",
    "        references.append(ref_text)\n",
    "\n",
    "    return references\n",
    "\n",
    "def scrape_wikipedia(title, lang=\"en\"):\n",
    "    ''' Wrapper to call all helper methods\n",
    "    '''\n",
    "    page = fetch_wikipedia_page(title, lang)\n",
    "    data = {\n",
    "        \"title\": page.title,\n",
    "        \"summary\": page.summary,\n",
    "        \"sections\": extract_sections(page),\n",
    "        \"references\": extract_references(title),\n",
    "        \"url\": f\"https://en.wikipedia.org/wiki/{title.replace(' ', '_')}\"\n",
    "    }\n",
    "    return data"
   ]
  },
  {
   "cell_type": "code",
   "execution_count": 15,
   "metadata": {},
   "outputs": [
    {
     "name": "stdout",
     "output_type": "stream",
     "text": [
      "Data saved to Nuclear_fission.json\n"
     ]
    }
   ],
   "source": [
    "title = \"Nuclear fission\"\n",
    "data = scrape_wikipedia(title)\n",
    "\n",
    "# Save to JSON\n",
    "with open(f\"{title.replace(' ', '_')}.json\", \"w\", encoding=\"utf-8\") as f:\n",
    "    json.dump(data, f, indent=4)\n",
    "\n",
    "print(f\"Data saved to {title.replace(' ', '_')}.json\")"
   ]
  },
  {
   "cell_type": "code",
   "execution_count": 16,
   "metadata": {},
   "outputs": [],
   "source": [
    "references = extract_references(title)"
   ]
  },
  {
   "cell_type": "code",
   "execution_count": null,
   "metadata": {},
   "outputs": [],
   "source": []
  },
  {
   "cell_type": "code",
   "execution_count": null,
   "metadata": {},
   "outputs": [],
   "source": []
  }
 ],
 "metadata": {
  "kernelspec": {
   "display_name": ".venv",
   "language": "python",
   "name": "python3"
  },
  "language_info": {
   "codemirror_mode": {
    "name": "ipython",
    "version": 3
   },
   "file_extension": ".py",
   "mimetype": "text/x-python",
   "name": "python",
   "nbconvert_exporter": "python",
   "pygments_lexer": "ipython3",
   "version": "3.13.2"
  }
 },
 "nbformat": 4,
 "nbformat_minor": 2
}
